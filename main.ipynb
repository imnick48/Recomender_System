{
 "cells": [
  {
   "cell_type": "code",
   "execution_count": 3,
   "id": "1f61649d-d80c-4323-b42e-412d93a6656e",
   "metadata": {},
   "outputs": [],
   "source": [
    "import pandas as pd\n",
    "import ast\n",
    "from nltk.corpus import stopwords\n",
    "from nltk.stem import PorterStemmer\n",
    "from sklearn.feature_extraction.text import CountVectorizer\n",
    "from sklearn.metrics.pairwise import cosine_similarity\n",
    "import zipfile\n",
    "import pickle"
   ]
  },
  {
   "cell_type": "code",
   "execution_count": 6,
   "id": "78f36f10-5a01-48b9-9ec4-5d56ef374a6b",
   "metadata": {},
   "outputs": [
    {
     "name": "stdout",
     "output_type": "stream",
     "text": [
      "Dataset URL: https://www.kaggle.com/datasets/tmdb/tmdb-movie-metadata\n",
      "License(s): other\n",
      "Downloading tmdb-movie-metadata.zip to dataset\n",
      "100%|██████████████████████████████████████| 8.89M/8.89M [00:11<00:00, 1.05MB/s]\n",
      "100%|███████████████████████████████████████| 8.89M/8.89M [00:11<00:00, 834kB/s]\n"
     ]
    }
   ],
   "source": [
    "!kaggle datasets download tmdb/tmdb-movie-metadata -p dataset"
   ]
  },
  {
   "cell_type": "code",
   "execution_count": 7,
   "id": "976a5ae1-0abf-4dc6-a82f-5be1de9780aa",
   "metadata": {},
   "outputs": [],
   "source": [
    "with zipfile.ZipFile (\"./dataset/tmdb-movie-metadata.zip\",'r') as f:\n",
    "    f.extractall(\"dataset\")"
   ]
  },
  {
   "cell_type": "code",
   "execution_count": 8,
   "id": "6b0b78b0-e94b-44d1-9d15-6be27aa34b81",
   "metadata": {},
   "outputs": [],
   "source": [
    "movies=pd.read_csv('./dataset/tmdb_5000_movies.csv')\n",
    "credit=pd.read_csv('./dataset/tmdb_5000_credits.csv')"
   ]
  },
  {
   "cell_type": "code",
   "execution_count": 9,
   "id": "cf0a460b-a0f8-4012-bff1-724d9319674a",
   "metadata": {},
   "outputs": [],
   "source": [
    "dataset=movies.merge(right=credit,on='title')"
   ]
  },
  {
   "cell_type": "code",
   "execution_count": 10,
   "id": "754aa75a-8f17-4e00-983a-d69860ce612e",
   "metadata": {},
   "outputs": [],
   "source": [
    "dataset=dataset[['movie_id','title','genres','keywords','spoken_languages','overview','cast','crew']]"
   ]
  },
  {
   "cell_type": "code",
   "execution_count": 11,
   "id": "a1bc7750-488b-4790-92a2-36cc3ea9db66",
   "metadata": {},
   "outputs": [
    {
     "data": {
      "text/plain": [
       "movie_id            0\n",
       "title               0\n",
       "genres              0\n",
       "keywords            0\n",
       "spoken_languages    0\n",
       "overview            3\n",
       "cast                0\n",
       "crew                0\n",
       "dtype: int64"
      ]
     },
     "metadata": {},
     "output_type": "display_data"
    }
   ],
   "source": [
    "display(dataset.isna().sum())\n",
    "dataset.dropna(inplace=True)\n",
    "dataset.drop_duplicates(inplace=True)"
   ]
  },
  {
   "cell_type": "code",
   "execution_count": 12,
   "id": "d480ad9e-96fb-4716-a4e3-bd2244de9832",
   "metadata": {},
   "outputs": [
    {
     "data": {
      "text/plain": [
       "[{'id': 28, 'name': 'Action'},\n",
       " {'id': 12, 'name': 'Adventure'},\n",
       " {'id': 14, 'name': 'Fantasy'},\n",
       " {'id': 878, 'name': 'Science Fiction'}]"
      ]
     },
     "execution_count": 12,
     "metadata": {},
     "output_type": "execute_result"
    }
   ],
   "source": [
    "ast.literal_eval(dataset['genres'][0])"
   ]
  },
  {
   "cell_type": "code",
   "execution_count": 13,
   "id": "e656f813-798f-4c2e-988c-caa419433894",
   "metadata": {},
   "outputs": [],
   "source": [
    "def getgen(genre):\n",
    "    res=[]\n",
    "    for i in ast.literal_eval(genre):\n",
    "        res.append(i['name'])\n",
    "    return res\n",
    "def getdir(crew):\n",
    "    res=[]\n",
    "    for i in ast.literal_eval(crew):\n",
    "        if i['job']=='Director':\n",
    "            res.append(i['name'])\n",
    "    return res"
   ]
  },
  {
   "cell_type": "code",
   "execution_count": 14,
   "id": "0e39a68c-3931-427a-92d9-c9a896ebbf97",
   "metadata": {},
   "outputs": [],
   "source": [
    "dataset['genres']=dataset['genres'].apply(getgen)\n",
    "dataset['keywords']=dataset['keywords'].apply(getgen)\n",
    "dataset['spoken_languages']=dataset['spoken_languages'].apply(getgen)\n",
    "dataset['overview']=dataset['overview'].apply(lambda x:x.split())\n",
    "dataset['cast']=dataset['cast'].apply(getgen)\n",
    "dataset['crew']=dataset['crew'].apply(getdir)"
   ]
  },
  {
   "cell_type": "code",
   "execution_count": 15,
   "id": "7706b83d-019e-4dd4-bb99-dc0becb79bda",
   "metadata": {},
   "outputs": [],
   "source": [
    "dataset['tags']=dataset['genres']+dataset['keywords']+dataset['spoken_languages']+dataset['overview']+dataset['cast']+dataset['crew']\n",
    "new_data = pd.DataFrame({\n",
    "    'movie_id': dataset['movie_id'],\n",
    "    'title': dataset['title'],\n",
    "    'tags': dataset['tags']\n",
    "})"
   ]
  },
  {
   "cell_type": "code",
   "execution_count": 16,
   "id": "c71f0044-0ad9-4f04-8cc9-cef1a30547a5",
   "metadata": {},
   "outputs": [],
   "source": [
    "stemmer=PorterStemmer()\n",
    "new_data['tags']=new_data['tags'].apply(lambda x: [stemmer.stem(word.lower().replace(' ','')) for word in list(set(x)) if word not in stopwords.words('english')])"
   ]
  },
  {
   "cell_type": "code",
   "execution_count": 17,
   "id": "60f86ed0-e7df-463e-b5ca-c67f35622766",
   "metadata": {},
   "outputs": [],
   "source": [
    "new_data['tags']=new_data['tags'].apply(lambda x: \" \".join(x))"
   ]
  },
  {
   "cell_type": "code",
   "execution_count": 18,
   "id": "b0a3b755-de98-47d7-bd0d-1aacf55d2b81",
   "metadata": {},
   "outputs": [
    {
     "data": {
      "text/html": [
       "<div>\n",
       "<style scoped>\n",
       "    .dataframe tbody tr th:only-of-type {\n",
       "        vertical-align: middle;\n",
       "    }\n",
       "\n",
       "    .dataframe tbody tr th {\n",
       "        vertical-align: top;\n",
       "    }\n",
       "\n",
       "    .dataframe thead th {\n",
       "        text-align: right;\n",
       "    }\n",
       "</style>\n",
       "<table border=\"1\" class=\"dataframe\">\n",
       "  <thead>\n",
       "    <tr style=\"text-align: right;\">\n",
       "      <th></th>\n",
       "      <th>movie_id</th>\n",
       "      <th>title</th>\n",
       "      <th>tags</th>\n",
       "    </tr>\n",
       "  </thead>\n",
       "  <tbody>\n",
       "    <tr>\n",
       "      <th>0</th>\n",
       "      <td>19995</td>\n",
       "      <td>Avatar</td>\n",
       "      <td>fantasi melvinlenoclarkiii lisaroumain michael...</td>\n",
       "    </tr>\n",
       "    <tr>\n",
       "      <th>1</th>\n",
       "      <td>285</td>\n",
       "      <td>Pirates of the Caribbean: At World's End</td>\n",
       "      <td>fantasi jonathanpryc tomholland drugabus loveo...</td>\n",
       "    </tr>\n",
       "    <tr>\n",
       "      <th>2</th>\n",
       "      <td>206647</td>\n",
       "      <td>Spectre</td>\n",
       "      <td>alessandrobressanello battl adammcgradi deutsc...</td>\n",
       "    </tr>\n",
       "    <tr>\n",
       "      <th>3</th>\n",
       "      <td>49026</td>\n",
       "      <td>The Dark Knight Rises</td>\n",
       "      <td>follow davidgyasi dent' kyle ronniegeneblevin ...</td>\n",
       "    </tr>\n",
       "    <tr>\n",
       "      <th>4</th>\n",
       "      <td>49529</td>\n",
       "      <td>John Carter</td>\n",
       "      <td>edgarriceburrough mar arkiereec andrewstanton ...</td>\n",
       "    </tr>\n",
       "    <tr>\n",
       "      <th>...</th>\n",
       "      <td>...</td>\n",
       "      <td>...</td>\n",
       "      <td>...</td>\n",
       "    </tr>\n",
       "    <tr>\n",
       "      <th>4804</th>\n",
       "      <td>9367</td>\n",
       "      <td>El Mariachi</td>\n",
       "      <td>carri mistak reinolmartinez ramirogomez henchm...</td>\n",
       "    </tr>\n",
       "    <tr>\n",
       "      <th>4805</th>\n",
       "      <td>72766</td>\n",
       "      <td>Newlyweds</td>\n",
       "      <td>arriv comedi daniellapineda caitlinfitzgerald ...</td>\n",
       "    </tr>\n",
       "    <tr>\n",
       "      <th>4806</th>\n",
       "      <td>231617</td>\n",
       "      <td>Signed, Sealed, Delivered</td>\n",
       "      <td>date loveatfirstsight benjaminhollingsworth de...</td>\n",
       "    </tr>\n",
       "    <tr>\n",
       "      <th>4807</th>\n",
       "      <td>126186</td>\n",
       "      <td>Shanghai Calling</td>\n",
       "      <td>english specialist, when shanghai ambiti roman...</td>\n",
       "    </tr>\n",
       "    <tr>\n",
       "      <th>4808</th>\n",
       "      <td>25975</td>\n",
       "      <td>My Date with Drew</td>\n",
       "      <td>well, english saw e.t. lifelong now, jersey. d...</td>\n",
       "    </tr>\n",
       "  </tbody>\n",
       "</table>\n",
       "<p>4806 rows × 3 columns</p>\n",
       "</div>"
      ],
      "text/plain": [
       "      movie_id                                     title  \\\n",
       "0        19995                                    Avatar   \n",
       "1          285  Pirates of the Caribbean: At World's End   \n",
       "2       206647                                   Spectre   \n",
       "3        49026                     The Dark Knight Rises   \n",
       "4        49529                               John Carter   \n",
       "...        ...                                       ...   \n",
       "4804      9367                               El Mariachi   \n",
       "4805     72766                                 Newlyweds   \n",
       "4806    231617                 Signed, Sealed, Delivered   \n",
       "4807    126186                          Shanghai Calling   \n",
       "4808     25975                         My Date with Drew   \n",
       "\n",
       "                                                   tags  \n",
       "0     fantasi melvinlenoclarkiii lisaroumain michael...  \n",
       "1     fantasi jonathanpryc tomholland drugabus loveo...  \n",
       "2     alessandrobressanello battl adammcgradi deutsc...  \n",
       "3     follow davidgyasi dent' kyle ronniegeneblevin ...  \n",
       "4     edgarriceburrough mar arkiereec andrewstanton ...  \n",
       "...                                                 ...  \n",
       "4804  carri mistak reinolmartinez ramirogomez henchm...  \n",
       "4805  arriv comedi daniellapineda caitlinfitzgerald ...  \n",
       "4806  date loveatfirstsight benjaminhollingsworth de...  \n",
       "4807  english specialist, when shanghai ambiti roman...  \n",
       "4808  well, english saw e.t. lifelong now, jersey. d...  \n",
       "\n",
       "[4806 rows x 3 columns]"
      ]
     },
     "execution_count": 18,
     "metadata": {},
     "output_type": "execute_result"
    }
   ],
   "source": [
    "new_data"
   ]
  },
  {
   "cell_type": "code",
   "execution_count": 19,
   "id": "ef5c608e-7547-473f-8e14-61ca056764c0",
   "metadata": {},
   "outputs": [],
   "source": [
    "vectorizer = CountVectorizer()\n",
    "bagofwords = vectorizer.fit_transform(new_data['tags']).toarray()"
   ]
  },
  {
   "cell_type": "code",
   "execution_count": 20,
   "id": "413d62b8-3d9a-4d49-9884-815a98001cee",
   "metadata": {},
   "outputs": [],
   "source": [
    "similarity=cosine_similarity(bagofwords)"
   ]
  },
  {
   "cell_type": "code",
   "execution_count": 21,
   "id": "a320816f-51c9-44b4-a76d-d5e8a92f9b28",
   "metadata": {},
   "outputs": [
    {
     "data": {
      "text/plain": [
       "array([1.        , 0.03898036, 0.03788857, ..., 0.03131121, 0.01160518,\n",
       "       0.01084333])"
      ]
     },
     "execution_count": 21,
     "metadata": {},
     "output_type": "execute_result"
    }
   ],
   "source": [
    "index = dataset['title'][dataset['title'] == 'Avatar'].index[0]\n",
    "similarity[index]"
   ]
  },
  {
   "cell_type": "code",
   "execution_count": 22,
   "id": "d519dc7f-4382-4fe3-a445-c741ad5e77cc",
   "metadata": {},
   "outputs": [],
   "source": [
    "def predict(movie):\n",
    "    index = dataset['title'][dataset['title'] == movie].index[0]\n",
    "    res = [list(dataset['title'])[i[0]] for i in sorted(enumerate(similarity[index]), key=lambda x: x[1],reverse=True)][1:10]\n",
    "    return res"
   ]
  },
  {
   "cell_type": "code",
   "execution_count": 23,
   "id": "74819758-b50f-409a-b0b5-13ef8f8b5848",
   "metadata": {},
   "outputs": [
    {
     "data": {
      "text/plain": [
       "['The Helix... Loaded',\n",
       " 'Falcon Rising',\n",
       " 'Small Soldiers',\n",
       " 'Aliens',\n",
       " 'Predators',\n",
       " 'Beowulf',\n",
       " 'Journey 2: The Mysterious Island',\n",
       " 'Predator',\n",
       " 'Titan A.E.']"
      ]
     },
     "execution_count": 23,
     "metadata": {},
     "output_type": "execute_result"
    }
   ],
   "source": [
    "predict('Avatar')"
   ]
  },
  {
   "cell_type": "code",
   "execution_count": 24,
   "id": "6f19eae9-a182-4808-9bfa-2bf74c0cb64c",
   "metadata": {},
   "outputs": [],
   "source": [
    "with open('similarity.pkl','wb') as f:\n",
    "    pickle.dump(similarity,f)\n",
    "with open('titles.pkl','wb') as fb:\n",
    "    pickle.dump(dict(zip(dataset['title'], dataset['movie_id'])),fb)"
   ]
  },
  {
   "cell_type": "code",
   "execution_count": null,
   "id": "90fe22b3-98ee-436e-a47b-2074c6fb115b",
   "metadata": {},
   "outputs": [],
   "source": []
  }
 ],
 "metadata": {
  "kernelspec": {
   "display_name": "Python 3 (ipykernel)",
   "language": "python",
   "name": "python3"
  },
  "language_info": {
   "codemirror_mode": {
    "name": "ipython",
    "version": 3
   },
   "file_extension": ".py",
   "mimetype": "text/x-python",
   "name": "python",
   "nbconvert_exporter": "python",
   "pygments_lexer": "ipython3",
   "version": "3.12.7"
  }
 },
 "nbformat": 4,
 "nbformat_minor": 5
}
